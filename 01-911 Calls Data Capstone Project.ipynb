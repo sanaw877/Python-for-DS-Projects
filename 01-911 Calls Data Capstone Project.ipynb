{
 "cells": [
  {
   "cell_type": "markdown",
   "metadata": {},
   "source": [
    "# 911 Calls Capstone Project"
   ]
  },
  {
   "cell_type": "markdown",
   "metadata": {},
   "source": [
    "For this capstone project we will be analyzing some 911 call data from [Kaggle](https://www.kaggle.com/mchirico/montcoalert). The data contains the following fields:\n",
    "\n",
    "* lat : String variable, Latitude\n",
    "* lng: String variable, Longitude\n",
    "* desc: String variable, Description of the Emergency Call\n",
    "* zip: String variable, Zipcode\n",
    "* title: String variable, Title\n",
    "* timeStamp: String variable, YYYY-MM-DD HH:MM:SS\n",
    "* twp: String variable, Township\n",
    "* addr: String variable, Address\n",
    "* e: String variable, Dummy variable (always 1)\n",
    "\n",
    "Just go along with this notebook and try to complete the instructions or answer the questions in bold using your Python and Data Science skills!"
   ]
  },
  {
   "cell_type": "markdown",
   "metadata": {},
   "source": [
    "## Data and Setup"
   ]
  },
  {
   "cell_type": "markdown",
   "metadata": {},
   "source": [
    "____\n",
    "** Import numpy and pandas **"
   ]
  },
  {
   "cell_type": "code",
   "execution_count": 1,
   "metadata": {},
   "outputs": [],
   "source": [
    "import numpy as np\n",
    "import pandas as pd\n",
    "import matplotlib.pyplot as plt\n",
    "import seaborn as sns\n",
    "%matplotlib inline"
   ]
  },
  {
   "cell_type": "code",
   "execution_count": 2,
   "metadata": {},
   "outputs": [
    {
     "data": {
      "text/html": [
       "<div>\n",
       "<style scoped>\n",
       "    .dataframe tbody tr th:only-of-type {\n",
       "        vertical-align: middle;\n",
       "    }\n",
       "\n",
       "    .dataframe tbody tr th {\n",
       "        vertical-align: top;\n",
       "    }\n",
       "\n",
       "    .dataframe thead th {\n",
       "        text-align: right;\n",
       "    }\n",
       "</style>\n",
       "<table border=\"1\" class=\"dataframe\">\n",
       "  <thead>\n",
       "    <tr style=\"text-align: right;\">\n",
       "      <th></th>\n",
       "      <th>lat</th>\n",
       "      <th>lng</th>\n",
       "      <th>desc</th>\n",
       "      <th>zip</th>\n",
       "      <th>title</th>\n",
       "      <th>timeStamp</th>\n",
       "      <th>twp</th>\n",
       "      <th>addr</th>\n",
       "      <th>e</th>\n",
       "    </tr>\n",
       "  </thead>\n",
       "  <tbody>\n",
       "    <tr>\n",
       "      <td>0</td>\n",
       "      <td>40.297876</td>\n",
       "      <td>-75.581294</td>\n",
       "      <td>REINDEER CT &amp; DEAD END;  NEW HANOVER; Station ...</td>\n",
       "      <td>19525.0</td>\n",
       "      <td>EMS: BACK PAINS/INJURY</td>\n",
       "      <td>2015-12-10 17:40:00</td>\n",
       "      <td>NEW HANOVER</td>\n",
       "      <td>REINDEER CT &amp; DEAD END</td>\n",
       "      <td>1</td>\n",
       "    </tr>\n",
       "    <tr>\n",
       "      <td>1</td>\n",
       "      <td>40.258061</td>\n",
       "      <td>-75.264680</td>\n",
       "      <td>BRIAR PATH &amp; WHITEMARSH LN;  HATFIELD TOWNSHIP...</td>\n",
       "      <td>19446.0</td>\n",
       "      <td>EMS: DIABETIC EMERGENCY</td>\n",
       "      <td>2015-12-10 17:40:00</td>\n",
       "      <td>HATFIELD TOWNSHIP</td>\n",
       "      <td>BRIAR PATH &amp; WHITEMARSH LN</td>\n",
       "      <td>1</td>\n",
       "    </tr>\n",
       "    <tr>\n",
       "      <td>2</td>\n",
       "      <td>40.121182</td>\n",
       "      <td>-75.351975</td>\n",
       "      <td>HAWS AVE; NORRISTOWN; 2015-12-10 @ 14:39:21-St...</td>\n",
       "      <td>19401.0</td>\n",
       "      <td>Fire: GAS-ODOR/LEAK</td>\n",
       "      <td>2015-12-10 17:40:00</td>\n",
       "      <td>NORRISTOWN</td>\n",
       "      <td>HAWS AVE</td>\n",
       "      <td>1</td>\n",
       "    </tr>\n",
       "    <tr>\n",
       "      <td>3</td>\n",
       "      <td>40.116153</td>\n",
       "      <td>-75.343513</td>\n",
       "      <td>AIRY ST &amp; SWEDE ST;  NORRISTOWN; Station 308A;...</td>\n",
       "      <td>19401.0</td>\n",
       "      <td>EMS: CARDIAC EMERGENCY</td>\n",
       "      <td>2015-12-10 17:40:01</td>\n",
       "      <td>NORRISTOWN</td>\n",
       "      <td>AIRY ST &amp; SWEDE ST</td>\n",
       "      <td>1</td>\n",
       "    </tr>\n",
       "    <tr>\n",
       "      <td>4</td>\n",
       "      <td>40.251492</td>\n",
       "      <td>-75.603350</td>\n",
       "      <td>CHERRYWOOD CT &amp; DEAD END;  LOWER POTTSGROVE; S...</td>\n",
       "      <td>NaN</td>\n",
       "      <td>EMS: DIZZINESS</td>\n",
       "      <td>2015-12-10 17:40:01</td>\n",
       "      <td>LOWER POTTSGROVE</td>\n",
       "      <td>CHERRYWOOD CT &amp; DEAD END</td>\n",
       "      <td>1</td>\n",
       "    </tr>\n",
       "  </tbody>\n",
       "</table>\n",
       "</div>"
      ],
      "text/plain": [
       "         lat        lng                                               desc  \\\n",
       "0  40.297876 -75.581294  REINDEER CT & DEAD END;  NEW HANOVER; Station ...   \n",
       "1  40.258061 -75.264680  BRIAR PATH & WHITEMARSH LN;  HATFIELD TOWNSHIP...   \n",
       "2  40.121182 -75.351975  HAWS AVE; NORRISTOWN; 2015-12-10 @ 14:39:21-St...   \n",
       "3  40.116153 -75.343513  AIRY ST & SWEDE ST;  NORRISTOWN; Station 308A;...   \n",
       "4  40.251492 -75.603350  CHERRYWOOD CT & DEAD END;  LOWER POTTSGROVE; S...   \n",
       "\n",
       "       zip                    title            timeStamp                twp  \\\n",
       "0  19525.0   EMS: BACK PAINS/INJURY  2015-12-10 17:40:00        NEW HANOVER   \n",
       "1  19446.0  EMS: DIABETIC EMERGENCY  2015-12-10 17:40:00  HATFIELD TOWNSHIP   \n",
       "2  19401.0      Fire: GAS-ODOR/LEAK  2015-12-10 17:40:00         NORRISTOWN   \n",
       "3  19401.0   EMS: CARDIAC EMERGENCY  2015-12-10 17:40:01         NORRISTOWN   \n",
       "4      NaN           EMS: DIZZINESS  2015-12-10 17:40:01   LOWER POTTSGROVE   \n",
       "\n",
       "                         addr  e  \n",
       "0      REINDEER CT & DEAD END  1  \n",
       "1  BRIAR PATH & WHITEMARSH LN  1  \n",
       "2                    HAWS AVE  1  \n",
       "3          AIRY ST & SWEDE ST  1  \n",
       "4    CHERRYWOOD CT & DEAD END  1  "
      ]
     },
     "execution_count": 2,
     "metadata": {},
     "output_type": "execute_result"
    }
   ],
   "source": [
    "calls = pd.read_csv('911.csv')\n",
    "calls.head()"
   ]
  },
  {
   "cell_type": "markdown",
   "metadata": {},
   "source": [
    "** Check the info() of the df **"
   ]
  },
  {
   "cell_type": "code",
   "execution_count": 3,
   "metadata": {
    "scrolled": true
   },
   "outputs": [
    {
     "name": "stdout",
     "output_type": "stream",
     "text": [
      "<class 'pandas.core.frame.DataFrame'>\n",
      "RangeIndex: 99492 entries, 0 to 99491\n",
      "Data columns (total 9 columns):\n",
      "lat          99492 non-null float64\n",
      "lng          99492 non-null float64\n",
      "desc         99492 non-null object\n",
      "zip          86637 non-null float64\n",
      "title        99492 non-null object\n",
      "timeStamp    99492 non-null object\n",
      "twp          99449 non-null object\n",
      "addr         98973 non-null object\n",
      "e            99492 non-null int64\n",
      "dtypes: float64(3), int64(1), object(5)\n",
      "memory usage: 6.8+ MB\n"
     ]
    }
   ],
   "source": [
    "calls.info()"
   ]
  },
  {
   "cell_type": "code",
   "execution_count": 4,
   "metadata": {},
   "outputs": [
    {
     "data": {
      "text/plain": [
       "10    RT202 PKWY & KNAPP RD; MONTGOMERY; 2015-12-10 ...\n",
       "11    BROOK RD & COLWELL LN; PLYMOUTH; 2015-12-10 @ ...\n",
       "12    BYBERRY AVE & S WARMINSTER RD; UPPER MORELAND;...\n",
       "13    OLD YORK RD & VALLEY RD; CHELTENHAM; 2015-12-1...\n",
       "14    SCHUYLKILL EXPY & CROTON RD UNDERPASS; UPPER M...\n",
       "15    STUMP RD & WITCHWOOD DR; MONTGOMERY; 2015-12-1...\n",
       "16    SUSQUEHANNA AVE & W MAIN ST;  LANSDALE; Statio...\n",
       "17    CHARLOTTE ST & MILES RD;  NEW HANOVER; Station...\n",
       "18    PENN ST & ARCH ST;  NORRISTOWN; Station 308A; ...\n",
       "19    COUNTY LINE RD & WILLOW DR; HORSHAM; 2015-12-1...\n",
       "20    PENN ST & ARCH ST; NORRISTOWN; 2015-12-10 @ 17...\n",
       "21    CHURCH RD & REDCOAT DR; WHITEMARSH; 2015-12-10...\n",
       "22    LILAC CT & PRIMROSE DR; UPPER GWYNEDD; 2015-12...\n",
       "23    RT422  & PAWLINGS RD OVERPASS; LOWER PROVIDENC...\n",
       "24    SUMMIT AVE & RT309 UNDERPASS; UPPER DUBLIN; 20...\n",
       "25    SHANNONDELL DR & SHANNONDELL BLVD;  LOWER PROV...\n",
       "26    PENLLYN BLUE BELL PIKE & VILLAGE CIR;  WHITPAI...\n",
       "27    EDENTON PL & DURHAM DR; DELAWARE COUNTY; 2015-...\n",
       "28    SCHUYLKILL EXPY & WEADLEY RD OVERPASS; UPPER M...\n",
       "29    COUNTY LINE RD & WILLOW DR; HORSHAM; 2015-12-1...\n",
       "30    SCHUYLKILL EXPY & WEADLEY RD OVERPASS; UPPER M...\n",
       "Name: desc, dtype: object"
      ]
     },
     "execution_count": 4,
     "metadata": {},
     "output_type": "execute_result"
    }
   ],
   "source": [
    "# investigate the desc column to see what it contains exactly\n",
    "# seems to have address, city, station #, date, time\n",
    "calls.loc[10:30,'desc']"
   ]
  },
  {
   "cell_type": "code",
   "execution_count": 5,
   "metadata": {
    "scrolled": true
   },
   "outputs": [],
   "source": [
    "import re\n",
    "calls['station'] = calls['desc'].apply(lambda x: re.search(\"Station \\d+\", x).group() if re.search(\"Station \\d+\", x) else np.nan)\n",
    "calls['timeStamp'] = pd.to_datetime(calls['timeStamp'], yearfirst=True, format='%Y/%m/%d')"
   ]
  },
  {
   "cell_type": "code",
   "execution_count": 6,
   "metadata": {},
   "outputs": [],
   "source": [
    "calls[['title','twp','addr']] = calls[['title','twp','addr']].apply(lambda x: x.str.lower())\n",
    "calls[['category', 'issue']] = calls['title'].str.split(':', expand = True)"
   ]
  },
  {
   "cell_type": "code",
   "execution_count": 7,
   "metadata": {},
   "outputs": [],
   "source": [
    "drop_cols = ['desc', 'title', 'e', 'issue']\n",
    "calls = calls.drop(drop_cols, axis=1)\n",
    "calls = calls[['lat', 'lng', 'zip', 'category', 'twp', 'addr', 'timeStamp']]\n",
    "calls.rename(columns={'twp':'town',\n",
    "                      'timeStamp': 'datetime',\n",
    "                     }, inplace=True)"
   ]
  },
  {
   "cell_type": "markdown",
   "metadata": {},
   "source": [
    "** What are the top 5 zipcodes for 911 calls? **"
   ]
  },
  {
   "cell_type": "code",
   "execution_count": 8,
   "metadata": {},
   "outputs": [
    {
     "data": {
      "image/png": "[encoded data removed]",
      "text/plain": [
       "<Figure size 432x288 with 1 Axes>"
      ]
     },
     "metadata": {},
     "output_type": "display_data"
    }
   ],
   "source": [
    "by_zip = calls.groupby('zip').agg('count').loc[:,'lat'].rename(columns={'lat':'count'})\n",
    "\n",
    "plt.style.use('fivethirtyeight')\n",
    "fig, ax = plt.subplots()\n",
    "by_zip.sort_values(ascending=False).head(10).plot.bar(ax=ax)\n",
    "\n",
    "ax.spines['right'].set_visible(False)\n",
    "ax.spines['top'].set_visible(False)\n",
    "ax.set(title = 'Zipcodes with the Most 911 Calls',\n",
    "       xlabel = 'Code',\n",
    "       ylabel = 'Count');"
   ]
  },
  {
   "cell_type": "code",
   "execution_count": 9,
   "metadata": {},
   "outputs": [
    {
     "data": {
      "text/plain": [
       "array(['hatfield township', 'norristown', 'lansdale', 'upper gwynedd',\n",
       "       'lower providence', 'cheltenham', 'upper merion', 'limerick',\n",
       "       'pottstown', 'ambler', 'montgomery', 'lower pottsgrove', 'horsham',\n",
       "       'springfield', 'west norriton', 'upper moreland', 'royersford',\n",
       "       'abington', 'upper dublin', 'towamencin', 'whitemarsh',\n",
       "       'east norriton', 'lower gwynedd', 'worcester', 'upper providence',\n",
       "       'plymouth', 'west pottsgrove', 'upper pottsgrove', 'bridgeport',\n",
       "       'north wales', 'whitpain', 'douglass', 'new hanover', nan,\n",
       "       'lower frederick', 'berks county', 'trappe', 'perkiomen',\n",
       "       'phila county', 'bucks county', 'upper hanover', 'chester county'],\n",
       "      dtype=object)"
      ]
     },
     "execution_count": 9,
     "metadata": {},
     "output_type": "execute_result"
    }
   ],
   "source": [
    "top10 = pd.DataFrame(by_zip.sort_values(ascending=False).head(10))\n",
    "top10 = top10.reset_index().rename(columns={0:'count'})\n",
    "calls.loc[calls['zip'].isin(top10['zip']), 'town'].unique()"
   ]
  },
  {
   "cell_type": "markdown",
   "metadata": {},
   "source": [
    "** What are the top 5 townships (twp) for 911 calls? **"
   ]
  },
  {
   "cell_type": "code",
   "execution_count": 10,
   "metadata": {},
   "outputs": [
    {
     "data": {
      "text/plain": [
       "town\n",
       "lower merion        8443\n",
       "abington            5977\n",
       "norristown          5890\n",
       "upper merion        5227\n",
       "cheltenham          4575\n",
       "pottstown           4146\n",
       "upper moreland      3434\n",
       "lower providence    3225\n",
       "plymouth            3158\n",
       "horsham             3003\n",
       "Name: lat, dtype: int64"
      ]
     },
     "execution_count": 10,
     "metadata": {},
     "output_type": "execute_result"
    }
   ],
   "source": [
    "by_town = calls.groupby('town').count().loc[:,'lat'].sort_values(ascending=False).head(10)\n",
    "by_town"
   ]
  },
  {
   "cell_type": "code",
   "execution_count": 11,
   "metadata": {},
   "outputs": [
    {
     "data": {
      "image/png": "[encoded data removed]",
      "text/plain": [
       "<Figure size 432x288 with 1 Axes>"
      ]
     },
     "metadata": {},
     "output_type": "display_data"
    }
   ],
   "source": [
    "fig, ax = plt.subplots(1,1)\n",
    "by_town.plot(kind='barh', ax=ax)\n",
    "\n",
    "ax.set(title = '911 Calls by Township',\n",
    "       ylabel = 'town')\n",
    "ax.grid(False)"
   ]
  },
  {
   "cell_type": "markdown",
   "metadata": {},
   "source": [
    "** What is the most common Reason for a 911 call based off of this new column? **"
   ]
  },
  {
   "cell_type": "code",
   "execution_count": 12,
   "metadata": {
    "scrolled": false
   },
   "outputs": [
    {
     "data": {
      "text/html": [
       "<div>\n",
       "<style scoped>\n",
       "    .dataframe tbody tr th:only-of-type {\n",
       "        vertical-align: middle;\n",
       "    }\n",
       "\n",
       "    .dataframe tbody tr th {\n",
       "        vertical-align: top;\n",
       "    }\n",
       "\n",
       "    .dataframe thead th {\n",
       "        text-align: right;\n",
       "    }\n",
       "</style>\n",
       "<table border=\"1\" class=\"dataframe\">\n",
       "  <thead>\n",
       "    <tr style=\"text-align: right;\">\n",
       "      <th></th>\n",
       "      <th>category</th>\n",
       "      <th>count</th>\n",
       "    </tr>\n",
       "  </thead>\n",
       "  <tbody>\n",
       "    <tr>\n",
       "      <td>0</td>\n",
       "      <td>ems</td>\n",
       "      <td>48877</td>\n",
       "    </tr>\n",
       "    <tr>\n",
       "      <td>1</td>\n",
       "      <td>fire</td>\n",
       "      <td>14920</td>\n",
       "    </tr>\n",
       "    <tr>\n",
       "      <td>2</td>\n",
       "      <td>traffic</td>\n",
       "      <td>35695</td>\n",
       "    </tr>\n",
       "  </tbody>\n",
       "</table>\n",
       "</div>"
      ],
      "text/plain": [
       "  category  count\n",
       "0      ems  48877\n",
       "1     fire  14920\n",
       "2  traffic  35695"
      ]
     },
     "execution_count": 12,
     "metadata": {},
     "output_type": "execute_result"
    }
   ],
   "source": [
    "by_cat = pd.DataFrame(calls.groupby('category').count().iloc[:,0])\n",
    "by_cat = by_cat.reset_index().rename(columns={'lat':'count'})\n",
    "by_cat"
   ]
  },
  {
   "cell_type": "markdown",
   "metadata": {},
   "source": [
    "** Now use seaborn to create a countplot of 911 calls by Reason. **"
   ]
  },
  {
   "cell_type": "code",
   "execution_count": 13,
   "metadata": {},
   "outputs": [
    {
     "data": {
      "text/plain": [
       "<matplotlib.axes._subplots.AxesSubplot at 0x11dd266a0>"
      ]
     },
     "execution_count": 13,
     "metadata": {},
     "output_type": "execute_result"
    },
    {
     "data": {
      "image/png": "[encoded data removed]",
      "text/plain": [
       "<Figure size 432x288 with 1 Axes>"
      ]
     },
     "metadata": {},
     "output_type": "display_data"
    }
   ],
   "source": [
    "sns.countplot('category',data=calls, color='red' )"
   ]
  },
  {
   "cell_type": "markdown",
   "metadata": {},
   "source": [
    "** You can now grab specific attributes from a Datetime object by calling them. For example:**\n",
    "\n",
    "    time = df['timeStamp'].iloc[0]\n",
    "    time.hour\n",
    "\n",
    "**You can use Jupyter's tab method to explore the various attributes you can call. Now that the timestamp column are actually DateTime objects, use .apply() to create 3 new columns called Hour, Month, and Day of Week. You will create these columns based off of the timeStamp column, reference the solutions if you get stuck on this step.**"
   ]
  },
  {
   "cell_type": "code",
   "execution_count": 14,
   "metadata": {},
   "outputs": [],
   "source": [
    "calls['month'] = calls['datetime'].dt.month\n",
    "calls['year'] = calls['datetime'].dt.year\n",
    "calls['day_of_week'] = calls['datetime'].dt.dayofweek\n",
    "calls['hour'] = calls['datetime'].dt.hour\n",
    "\n",
    "dmap = {0:'Mon',1:'Tue',2:'Wed',3:'Thu',4:'Fri',5:'Sat',6:'Sun'}\n",
    "calls['day_of_week'] = calls['day_of_week'].map(dmap)"
   ]
  },
  {
   "cell_type": "code",
   "execution_count": 15,
   "metadata": {},
   "outputs": [
    {
     "data": {
      "text/plain": [
       "array([12,  1,  2,  3,  4,  5,  6,  7,  8])"
      ]
     },
     "execution_count": 15,
     "metadata": {},
     "output_type": "execute_result"
    }
   ],
   "source": [
    "calls['month'].unique()"
   ]
  },
  {
   "cell_type": "markdown",
   "metadata": {},
   "source": [
    "** Now use seaborn to create a countplot of the Day of Week column with the hue based off of the Reason column. **"
   ]
  },
  {
   "cell_type": "code",
   "execution_count": 16,
   "metadata": {
    "scrolled": true
   },
   "outputs": [
    {
     "data": {
      "image/png": "[encoded data removed]",
      "text/plain": [
       "<Figure size 864x216 with 2 Axes>"
      ]
     },
     "metadata": {},
     "output_type": "display_data"
    }
   ],
   "source": [
    "import matplotlib\n",
    "matplotlib.rcParams.update({'font.size':10})\n",
    "fig, axes = plt.subplots(1,2,figsize=(12,3))\n",
    "var = ['day_of_week', 'month']\n",
    "orders = [['Mon', 'Tue', 'Wed', 'Thu', 'Fri', 'Sat', 'Sun'],[1,2,3,4,5,6,7,8,12]]\n",
    "for i, ax in enumerate(axes.flatten()):\n",
    "    sns.countplot(var[i], data=calls, hue='category', order=orders[i], ax=ax)\n",
    "    ax.legend(loc='center left', bbox_to_anchor=(1,0.5))\n",
    "    ax.set_title('Number of Calls by Category and ' + var[i])\n",
    "    ax.axes.get_xaxis().get_label().set_visible(False)\n",
    "    ax.axes.get_yaxis().get_label().set_visible(False)\n",
    "fig.tight_layout()"
   ]
  },
  {
   "cell_type": "code",
   "execution_count": 17,
   "metadata": {},
   "outputs": [
    {
     "name": "stdout",
     "output_type": "stream",
     "text": [
      "_internal.classic_mode\n",
      "agg.path.chunksize\n",
      "animation.avconv_args\n",
      "animation.avconv_path\n",
      "animation.bitrate\n",
      "animation.codec\n",
      "animation.convert_args\n",
      "animation.convert_path\n",
      "animation.embed_limit\n",
      "animation.ffmpeg_args\n",
      "animation.ffmpeg_path\n",
      "animation.frame_format\n",
      "animation.html\n",
      "animation.html_args\n",
      "animation.writer\n",
      "axes.autolimit_mode\n",
      "axes.axisbelow\n",
      "axes.edgecolor\n",
      "axes.facecolor\n",
      "axes.formatter.limits\n",
      "axes.formatter.min_exponent\n",
      "axes.formatter.offset_threshold\n",
      "axes.formatter.use_locale\n",
      "axes.formatter.use_mathtext\n",
      "axes.formatter.useoffset\n",
      "axes.grid\n",
      "axes.grid.axis\n",
      "axes.grid.which\n",
      "axes.labelcolor\n",
      "axes.labelpad\n",
      "axes.labelsize\n",
      "axes.labelweight\n",
      "axes.linewidth\n",
      "axes.prop_cycle\n",
      "axes.spines.bottom\n",
      "axes.spines.left\n",
      "axes.spines.right\n",
      "axes.spines.top\n",
      "axes.titlepad\n",
      "axes.titlesize\n",
      "axes.titleweight\n",
      "axes.unicode_minus\n",
      "axes.xmargin\n",
      "axes.ymargin\n",
      "axes3d.grid\n",
      "backend\n",
      "backend_fallback\n",
      "boxplot.bootstrap\n",
      "boxplot.boxprops.color\n",
      "boxplot.boxprops.linestyle\n",
      "boxplot.boxprops.linewidth\n",
      "boxplot.capprops.color\n",
      "boxplot.capprops.linestyle\n",
      "boxplot.capprops.linewidth\n",
      "boxplot.flierprops.color\n",
      "boxplot.flierprops.linestyle\n",
      "boxplot.flierprops.linewidth\n",
      "boxplot.flierprops.marker\n",
      "boxplot.flierprops.markeredgecolor\n",
      "boxplot.flierprops.markeredgewidth\n",
      "boxplot.flierprops.markerfacecolor\n",
      "boxplot.flierprops.markersize\n",
      "boxplot.meanline\n",
      "boxplot.meanprops.color\n",
      "boxplot.meanprops.linestyle\n",
      "boxplot.meanprops.linewidth\n",
      "boxplot.meanprops.marker\n",
      "boxplot.meanprops.markeredgecolor\n",
      "boxplot.meanprops.markerfacecolor\n",
      "boxplot.meanprops.markersize\n",
      "boxplot.medianprops.color\n",
      "boxplot.medianprops.linestyle\n",
      "boxplot.medianprops.linewidth\n",
      "boxplot.notch\n",
      "boxplot.patchartist\n",
      "boxplot.showbox\n",
      "boxplot.showcaps\n",
      "boxplot.showfliers\n",
      "boxplot.showmeans\n",
      "boxplot.vertical\n",
      "boxplot.whiskerprops.color\n",
      "boxplot.whiskerprops.linestyle\n",
      "boxplot.whiskerprops.linewidth\n",
      "boxplot.whiskers\n",
      "contour.corner_mask\n",
      "contour.negative_linestyle\n",
      "datapath\n",
      "date.autoformatter.day\n",
      "date.autoformatter.hour\n",
      "date.autoformatter.microsecond\n",
      "date.autoformatter.minute\n",
      "date.autoformatter.month\n",
      "date.autoformatter.second\n",
      "date.autoformatter.year\n",
      "docstring.hardcopy\n",
      "errorbar.capsize\n",
      "examples.directory\n",
      "figure.autolayout\n",
      "figure.constrained_layout.h_pad\n",
      "figure.constrained_layout.hspace\n",
      "figure.constrained_layout.use\n",
      "figure.constrained_layout.w_pad\n",
      "figure.constrained_layout.wspace\n",
      "figure.dpi\n",
      "figure.edgecolor\n",
      "figure.facecolor\n",
      "figure.figsize\n",
      "figure.frameon\n",
      "figure.max_open_warning\n",
      "figure.subplot.bottom\n",
      "figure.subplot.hspace\n",
      "figure.subplot.left\n",
      "figure.subplot.right\n",
      "figure.subplot.top\n",
      "figure.subplot.wspace\n",
      "figure.titlesize\n",
      "figure.titleweight\n",
      "font.cursive\n",
      "font.family\n",
      "font.fantasy\n",
      "font.monospace\n",
      "font.sans-serif\n",
      "font.serif\n",
      "font.size\n",
      "font.stretch\n",
      "font.style\n",
      "font.variant\n",
      "font.weight\n",
      "grid.alpha\n",
      "grid.color\n",
      "grid.linestyle\n",
      "grid.linewidth\n",
      "hatch.color\n",
      "hatch.linewidth\n",
      "hist.bins\n",
      "image.aspect\n",
      "image.cmap\n",
      "image.composite_image\n",
      "image.interpolation\n",
      "image.lut\n",
      "image.origin\n",
      "image.resample\n",
      "interactive\n",
      "keymap.all_axes\n",
      "keymap.back\n",
      "keymap.copy\n",
      "keymap.forward\n",
      "keymap.fullscreen\n",
      "keymap.grid\n",
      "keymap.grid_minor\n",
      "keymap.help\n",
      "keymap.home\n",
      "keymap.pan\n",
      "keymap.quit\n",
      "keymap.quit_all\n",
      "keymap.save\n",
      "keymap.xscale\n",
      "keymap.yscale\n",
      "keymap.zoom\n",
      "legend.borderaxespad\n",
      "legend.borderpad\n",
      "legend.columnspacing\n",
      "legend.edgecolor\n",
      "legend.facecolor\n",
      "legend.fancybox\n",
      "legend.fontsize\n",
      "legend.framealpha\n",
      "legend.frameon\n",
      "legend.handleheight\n",
      "legend.handlelength\n",
      "legend.handletextpad\n",
      "legend.labelspacing\n",
      "legend.loc\n",
      "legend.markerscale\n",
      "legend.numpoints\n",
      "legend.scatterpoints\n",
      "legend.shadow\n",
      "legend.title_fontsize\n",
      "lines.antialiased\n",
      "lines.color\n",
      "lines.dash_capstyle\n",
      "lines.dash_joinstyle\n",
      "lines.dashdot_pattern\n",
      "lines.dashed_pattern\n",
      "lines.dotted_pattern\n",
      "lines.linestyle\n",
      "lines.linewidth\n",
      "lines.marker\n",
      "lines.markeredgecolor\n",
      "lines.markeredgewidth\n",
      "lines.markerfacecolor\n",
      "lines.markersize\n",
      "lines.scale_dashes\n",
      "lines.solid_capstyle\n",
      "lines.solid_joinstyle\n",
      "markers.fillstyle\n",
      "mathtext.bf\n",
      "mathtext.cal\n",
      "mathtext.default\n",
      "mathtext.fallback_to_cm\n",
      "mathtext.fontset\n",
      "mathtext.it\n",
      "mathtext.rm\n",
      "mathtext.sf\n",
      "mathtext.tt\n",
      "patch.antialiased\n",
      "patch.edgecolor\n",
      "patch.facecolor\n",
      "patch.force_edgecolor\n",
      "patch.linewidth\n",
      "path.effects\n",
      "path.simplify\n",
      "path.simplify_threshold\n",
      "path.sketch\n",
      "path.snap\n",
      "pdf.compression\n",
      "pdf.fonttype\n",
      "pdf.inheritcolor\n",
      "pdf.use14corefonts\n",
      "pgf.preamble\n",
      "pgf.rcfonts\n",
      "pgf.texsystem\n",
      "polaraxes.grid\n",
      "ps.distiller.res\n",
      "ps.fonttype\n",
      "ps.papersize\n",
      "ps.useafm\n",
      "ps.usedistiller\n",
      "savefig.bbox\n",
      "savefig.directory\n",
      "savefig.dpi\n",
      "savefig.edgecolor\n",
      "savefig.facecolor\n",
      "savefig.format\n",
      "savefig.frameon\n",
      "savefig.jpeg_quality\n",
      "savefig.orientation\n",
      "savefig.pad_inches\n",
      "savefig.transparent\n",
      "scatter.edgecolors\n",
      "scatter.marker\n",
      "svg.fonttype\n",
      "svg.hashsalt\n",
      "svg.image_inline\n",
      "text.antialiased\n",
      "text.color\n",
      "text.hinting\n",
      "text.hinting_factor\n",
      "text.latex.preamble\n",
      "text.latex.preview\n",
      "text.latex.unicode\n",
      "text.usetex\n",
      "timezone\n",
      "tk.window_focus\n",
      "toolbar\n",
      "verbose.fileo\n",
      "verbose.level\n",
      "webagg.address\n",
      "webagg.open_in_browser\n",
      "webagg.port\n",
      "webagg.port_retries\n",
      "xtick.alignment\n",
      "xtick.bottom\n",
      "xtick.color\n",
      "xtick.direction\n",
      "xtick.labelbottom\n",
      "xtick.labelsize\n",
      "xtick.labeltop\n",
      "xtick.major.bottom\n",
      "xtick.major.pad\n",
      "xtick.major.size\n",
      "xtick.major.top\n",
      "xtick.major.width\n",
      "xtick.minor.bottom\n",
      "xtick.minor.pad\n",
      "xtick.minor.size\n",
      "xtick.minor.top\n",
      "xtick.minor.visible\n",
      "xtick.minor.width\n",
      "xtick.top\n",
      "ytick.alignment\n",
      "ytick.color\n",
      "ytick.direction\n",
      "ytick.labelleft\n",
      "ytick.labelright\n",
      "ytick.labelsize\n",
      "ytick.left\n",
      "ytick.major.left\n",
      "ytick.major.pad\n",
      "ytick.major.right\n",
      "ytick.major.size\n",
      "ytick.major.width\n",
      "ytick.minor.left\n",
      "ytick.minor.pad\n",
      "ytick.minor.right\n",
      "ytick.minor.size\n",
      "ytick.minor.visible\n",
      "ytick.minor.width\n",
      "ytick.right\n"
     ]
    }
   ],
   "source": [
    "for k,v in matplotlib.rcParams.items():\n",
    "    print(k)"
   ]
  },
  {
   "cell_type": "markdown",
   "metadata": {},
   "source": [
    "** Now create a gropuby object called byMonth, where you group the DataFrame by the month column and use the count() method for aggregation. Use the head() method on this returned DataFrame. **"
   ]
  },
  {
   "cell_type": "code",
   "execution_count": 18,
   "metadata": {},
   "outputs": [
    {
     "data": {
      "text/html": [
       "<div>\n",
       "<style scoped>\n",
       "    .dataframe tbody tr th:only-of-type {\n",
       "        vertical-align: middle;\n",
       "    }\n",
       "\n",
       "    .dataframe tbody tr th {\n",
       "        vertical-align: top;\n",
       "    }\n",
       "\n",
       "    .dataframe thead th {\n",
       "        text-align: right;\n",
       "    }\n",
       "</style>\n",
       "<table border=\"1\" class=\"dataframe\">\n",
       "  <thead>\n",
       "    <tr style=\"text-align: right;\">\n",
       "      <th></th>\n",
       "      <th>month</th>\n",
       "      <th>count</th>\n",
       "    </tr>\n",
       "  </thead>\n",
       "  <tbody>\n",
       "    <tr>\n",
       "      <td>0</td>\n",
       "      <td>1</td>\n",
       "      <td>13205</td>\n",
       "    </tr>\n",
       "    <tr>\n",
       "      <td>1</td>\n",
       "      <td>2</td>\n",
       "      <td>11467</td>\n",
       "    </tr>\n",
       "    <tr>\n",
       "      <td>2</td>\n",
       "      <td>3</td>\n",
       "      <td>11101</td>\n",
       "    </tr>\n",
       "    <tr>\n",
       "      <td>3</td>\n",
       "      <td>4</td>\n",
       "      <td>11326</td>\n",
       "    </tr>\n",
       "    <tr>\n",
       "      <td>4</td>\n",
       "      <td>5</td>\n",
       "      <td>11423</td>\n",
       "    </tr>\n",
       "    <tr>\n",
       "      <td>5</td>\n",
       "      <td>6</td>\n",
       "      <td>11786</td>\n",
       "    </tr>\n",
       "    <tr>\n",
       "      <td>6</td>\n",
       "      <td>7</td>\n",
       "      <td>12137</td>\n",
       "    </tr>\n",
       "    <tr>\n",
       "      <td>7</td>\n",
       "      <td>8</td>\n",
       "      <td>9078</td>\n",
       "    </tr>\n",
       "    <tr>\n",
       "      <td>8</td>\n",
       "      <td>12</td>\n",
       "      <td>7969</td>\n",
       "    </tr>\n",
       "  </tbody>\n",
       "</table>\n",
       "</div>"
      ],
      "text/plain": [
       "   month  count\n",
       "0      1  13205\n",
       "1      2  11467\n",
       "2      3  11101\n",
       "3      4  11326\n",
       "4      5  11423\n",
       "5      6  11786\n",
       "6      7  12137\n",
       "7      8   9078\n",
       "8     12   7969"
      ]
     },
     "execution_count": 18,
     "metadata": {},
     "output_type": "execute_result"
    }
   ],
   "source": [
    "bymonth = calls.groupby('month').count().iloc[:,0].reset_index().rename(columns={'lat':'count'})\n",
    "bymonth"
   ]
  },
  {
   "cell_type": "markdown",
   "metadata": {},
   "source": [
    "** Now create a simple plot off of the dataframe indicating the count of calls per month. **"
   ]
  },
  {
   "cell_type": "code",
   "execution_count": 19,
   "metadata": {},
   "outputs": [
    {
     "data": {
      "text/plain": [
       "<matplotlib.axes._subplots.AxesSubplot at 0x11d904fd0>"
      ]
     },
     "execution_count": 19,
     "metadata": {},
     "output_type": "execute_result"
    },
    {
     "data": {
      "image/png": "[encoded data removed]",
      "text/plain": [
       "<Figure size 432x288 with 1 Axes>"
      ]
     },
     "metadata": {},
     "output_type": "display_data"
    }
   ],
   "source": [
    "bymonth.plot(x='month',y='count')"
   ]
  },
  {
   "cell_type": "markdown",
   "metadata": {},
   "source": [
    "** Now see if you can use seaborn's lmplot() to create a linear fit on the number of calls per month. Keep in mind you may need to reset the index to a column. **"
   ]
  },
  {
   "cell_type": "code",
   "execution_count": 20,
   "metadata": {},
   "outputs": [
    {
     "data": {
      "text/plain": [
       "<seaborn.axisgrid.FacetGrid at 0x11d868278>"
      ]
     },
     "execution_count": 20,
     "metadata": {},
     "output_type": "execute_result"
    },
    {
     "data": {
      "image/png": "[encoded data removed]",
      "text/plain": [
       "<Figure size 360x360 with 1 Axes>"
      ]
     },
     "metadata": {},
     "output_type": "display_data"
    }
   ],
   "source": [
    "sns.lmplot(x='month', y='count', data=bymonth)"
   ]
  },
  {
   "cell_type": "markdown",
   "metadata": {},
   "source": [
    "**Create a new column called 'Date' that contains the date from the timeStamp column. You'll need to use apply along with the .date() method. ** "
   ]
  },
  {
   "cell_type": "code",
   "execution_count": 21,
   "metadata": {},
   "outputs": [
    {
     "data": {
      "text/html": [
       "<div>\n",
       "<style scoped>\n",
       "    .dataframe tbody tr th:only-of-type {\n",
       "        vertical-align: middle;\n",
       "    }\n",
       "\n",
       "    .dataframe tbody tr th {\n",
       "        vertical-align: top;\n",
       "    }\n",
       "\n",
       "    .dataframe thead th {\n",
       "        text-align: right;\n",
       "    }\n",
       "</style>\n",
       "<table border=\"1\" class=\"dataframe\">\n",
       "  <thead>\n",
       "    <tr style=\"text-align: right;\">\n",
       "      <th></th>\n",
       "      <th>lat</th>\n",
       "    </tr>\n",
       "    <tr>\n",
       "      <th>date</th>\n",
       "      <th></th>\n",
       "    </tr>\n",
       "  </thead>\n",
       "  <tbody>\n",
       "    <tr>\n",
       "      <td>2015-12-10</td>\n",
       "      <td>115</td>\n",
       "    </tr>\n",
       "    <tr>\n",
       "      <td>2015-12-11</td>\n",
       "      <td>396</td>\n",
       "    </tr>\n",
       "    <tr>\n",
       "      <td>2015-12-12</td>\n",
       "      <td>403</td>\n",
       "    </tr>\n",
       "    <tr>\n",
       "      <td>2015-12-13</td>\n",
       "      <td>319</td>\n",
       "    </tr>\n",
       "    <tr>\n",
       "      <td>2015-12-14</td>\n",
       "      <td>447</td>\n",
       "    </tr>\n",
       "    <tr>\n",
       "      <td>...</td>\n",
       "      <td>...</td>\n",
       "    </tr>\n",
       "    <tr>\n",
       "      <td>2016-08-20</td>\n",
       "      <td>328</td>\n",
       "    </tr>\n",
       "    <tr>\n",
       "      <td>2016-08-21</td>\n",
       "      <td>357</td>\n",
       "    </tr>\n",
       "    <tr>\n",
       "      <td>2016-08-22</td>\n",
       "      <td>389</td>\n",
       "    </tr>\n",
       "    <tr>\n",
       "      <td>2016-08-23</td>\n",
       "      <td>439</td>\n",
       "    </tr>\n",
       "    <tr>\n",
       "      <td>2016-08-24</td>\n",
       "      <td>132</td>\n",
       "    </tr>\n",
       "  </tbody>\n",
       "</table>\n",
       "<p>259 rows × 1 columns</p>\n",
       "</div>"
      ],
      "text/plain": [
       "            lat\n",
       "date           \n",
       "2015-12-10  115\n",
       "2015-12-11  396\n",
       "2015-12-12  403\n",
       "2015-12-13  319\n",
       "2015-12-14  447\n",
       "...         ...\n",
       "2016-08-20  328\n",
       "2016-08-21  357\n",
       "2016-08-22  389\n",
       "2016-08-23  439\n",
       "2016-08-24  132\n",
       "\n",
       "[259 rows x 1 columns]"
      ]
     },
     "execution_count": 21,
     "metadata": {},
     "output_type": "execute_result"
    }
   ],
   "source": [
    "calls['date'] = calls['datetime'].dt.date\n",
    "bydate = pd.DataFrame(calls.groupby('date').count().iloc[:,0])\n",
    "bydate"
   ]
  },
  {
   "cell_type": "code",
   "execution_count": 22,
   "metadata": {},
   "outputs": [
    {
     "data": {
      "text/plain": [
       "Text(0, 0.5, 'Count')"
      ]
     },
     "execution_count": 22,
     "metadata": {},
     "output_type": "execute_result"
    },
    {
     "data": {
      "image/png": "[encoded data removed]",
      "text/plain": [
       "<Figure size 864x216 with 1 Axes>"
      ]
     },
     "metadata": {},
     "output_type": "display_data"
    }
   ],
   "source": [
    "fig, ax = plt.subplots(figsize=(12,3))\n",
    "bydate.plot(linewidth=.8,ax=ax)\n",
    "fig.autofmt_xdate()\n",
    "ax.grid(False)\n",
    "ax.set_title('911 Calls (2015-2016)')\n",
    "ax.set_ylabel('Count')"
   ]
  },
  {
   "cell_type": "markdown",
   "metadata": {},
   "source": [
    "** Now recreate this plot but create 3 separate plots with each plot representing a Reason for the 911 call**"
   ]
  },
  {
   "cell_type": "code",
   "execution_count": 23,
   "metadata": {},
   "outputs": [],
   "source": [
    "bydate_and_reason = pd.DataFrame(calls.groupby(['category','date']).count().iloc[:,0].rename(columns={'lat':'count'}))\n",
    "bydate_and_reason.rename(columns={0:'count'}, inplace=True)"
   ]
  },
  {
   "cell_type": "code",
   "execution_count": 25,
   "metadata": {
    "scrolled": false
   },
   "outputs": [
    {
     "data": {
      "text/plain": [
       "<matplotlib.axes._subplots.AxesSubplot at 0x11c342400>"
      ]
     },
     "execution_count": 25,
     "metadata": {},
     "output_type": "execute_result"
    },
    {
     "data": {
      "image/png": "[encoded data removed]",
      "text/plain": [
       "<Figure size 864x216 with 1 Axes>"
      ]
     },
     "metadata": {},
     "output_type": "display_data"
    }
   ],
   "source": [
    "bydate_and_reason.reset_index(inplace=True, level=0)\n",
    "fig, ax = plt.subplots(figsize=(12,3))\n",
    "sns.lineplot(data=bydate_and_reason, x=bydate_and_reason.index, y='count', hue='category', linewidth=.8)"
   ]
  },
  {
   "cell_type": "markdown",
   "metadata": {},
   "source": [
    "____\n",
    "** Now let's move on to creating  heatmaps with seaborn and our data. We'll first need to restructure the dataframe so that the columns become the Hours and the Index becomes the Day of the Week. There are lots of ways to do this, but I would recommend trying to combine groupby with an [unstack](http://pandas.pydata.org/pandas-docs/stable/generated/pandas.DataFrame.unstack.html) method. Reference the solutions if you get stuck on this!**"
   ]
  },
  {
   "cell_type": "code",
   "execution_count": 26,
   "metadata": {},
   "outputs": [],
   "source": [
    "by_day_hour = calls.groupby(['day_of_week', 'hour']).count().iloc[:,0].unstack(level=1)"
   ]
  },
  {
   "cell_type": "markdown",
   "metadata": {},
   "source": [
    "** Now create a HeatMap using this new DataFrame. **"
   ]
  },
  {
   "cell_type": "code",
   "execution_count": 27,
   "metadata": {},
   "outputs": [
    {
     "data": {
      "text/plain": [
       "<matplotlib.axes._subplots.AxesSubplot at 0x11c2084e0>"
      ]
     },
     "execution_count": 27,
     "metadata": {},
     "output_type": "execute_result"
    },
    {
     "data": {
      "image/png": "[encoded data removed]",
      "text/plain": [
       "<Figure size 432x288 with 2 Axes>"
      ]
     },
     "metadata": {},
     "output_type": "display_data"
    }
   ],
   "source": [
    "sns.heatmap(by_day_hour, linewidths=2, cmap=sns.cm.rocket_r)"
   ]
  },
  {
   "cell_type": "markdown",
   "metadata": {},
   "source": [
    "** Now create a clustermap using this DataFrame. **"
   ]
  },
  {
   "cell_type": "code",
   "execution_count": 28,
   "metadata": {},
   "outputs": [
    {
     "data": {
      "text/plain": [
       "<seaborn.matrix.ClusterGrid at 0x11c038b38>"
      ]
     },
     "execution_count": 28,
     "metadata": {},
     "output_type": "execute_result"
    },
    {
     "data": {
      "image/png": "[encoded data removed]",
      "text/plain": [
       "<Figure size 720x720 with 4 Axes>"
      ]
     },
     "metadata": {},
     "output_type": "display_data"
    }
   ],
   "source": [
    "sns.clustermap(by_day_hour, cmap=sns.cm.rocket_r)"
   ]
  },
  {
   "cell_type": "markdown",
   "metadata": {},
   "source": [
    "** Now repeat these same plots and operations, for a DataFrame that shows the Month as the column. **"
   ]
  },
  {
   "cell_type": "code",
   "execution_count": 29,
   "metadata": {},
   "outputs": [
    {
     "data": {
      "text/plain": [
       "<matplotlib.axes._subplots.AxesSubplot at 0x11bcefd30>"
      ]
     },
     "execution_count": 29,
     "metadata": {},
     "output_type": "execute_result"
    },
    {
     "data": {
      "image/png": "[encoded data removed]",
      "text/plain": [
       "<Figure size 432x288 with 2 Axes>"
      ]
     },
     "metadata": {},
     "output_type": "display_data"
    }
   ],
   "source": [
    "by_day_month = calls.groupby(['day_of_week', 'month']).count().iloc[:,0].unstack(level=1)\n",
    "sns.heatmap(by_day_month, cmap=sns.cm.rocket_r, linewidths=2)"
   ]
  },
  {
   "cell_type": "code",
   "execution_count": 30,
   "metadata": {},
   "outputs": [
    {
     "data": {
      "text/plain": [
       "<seaborn.matrix.ClusterGrid at 0x11bbc67b8>"
      ]
     },
     "execution_count": 30,
     "metadata": {},
     "output_type": "execute_result"
    },
    {
     "data": {
      "image/png": "[encoded data removed]",
      "text/plain": [
       "<Figure size 720x720 with 4 Axes>"
      ]
     },
     "metadata": {},
     "output_type": "display_data"
    }
   ],
   "source": [
    "sns.clustermap(by_day_month, cmap=sns.cm.rocket_r)"
   ]
  },
  {
   "cell_type": "code",
   "execution_count": 31,
   "metadata": {},
   "outputs": [],
   "source": [
    "locs = calls.groupby(['zip']).first().iloc[:,:2]"
   ]
  },
  {
   "cell_type": "code",
   "execution_count": 32,
   "metadata": {},
   "outputs": [
    {
     "data": {
      "text/html": [
       "<div>\n",
       "<style scoped>\n",
       "    .dataframe tbody tr th:only-of-type {\n",
       "        vertical-align: middle;\n",
       "    }\n",
       "\n",
       "    .dataframe tbody tr th {\n",
       "        vertical-align: top;\n",
       "    }\n",
       "\n",
       "    .dataframe thead th {\n",
       "        text-align: right;\n",
       "    }\n",
       "</style>\n",
       "<table border=\"1\" class=\"dataframe\">\n",
       "  <thead>\n",
       "    <tr style=\"text-align: right;\">\n",
       "      <th></th>\n",
       "      <th>zip</th>\n",
       "      <th>count</th>\n",
       "      <th>lat</th>\n",
       "      <th>lng</th>\n",
       "    </tr>\n",
       "  </thead>\n",
       "  <tbody>\n",
       "    <tr>\n",
       "      <td>0</td>\n",
       "      <td>17752.0</td>\n",
       "      <td>1</td>\n",
       "      <td>41.167156</td>\n",
       "      <td>-76.874030</td>\n",
       "    </tr>\n",
       "    <tr>\n",
       "      <td>1</td>\n",
       "      <td>18036.0</td>\n",
       "      <td>2</td>\n",
       "      <td>40.456517</td>\n",
       "      <td>-75.463066</td>\n",
       "    </tr>\n",
       "    <tr>\n",
       "      <td>2</td>\n",
       "      <td>18041.0</td>\n",
       "      <td>414</td>\n",
       "      <td>40.414249</td>\n",
       "      <td>-75.509016</td>\n",
       "    </tr>\n",
       "    <tr>\n",
       "      <td>3</td>\n",
       "      <td>18054.0</td>\n",
       "      <td>326</td>\n",
       "      <td>40.349068</td>\n",
       "      <td>-75.481830</td>\n",
       "    </tr>\n",
       "    <tr>\n",
       "      <td>4</td>\n",
       "      <td>18056.0</td>\n",
       "      <td>6</td>\n",
       "      <td>40.453060</td>\n",
       "      <td>-75.556029</td>\n",
       "    </tr>\n",
       "  </tbody>\n",
       "</table>\n",
       "</div>"
      ],
      "text/plain": [
       "       zip  count        lat        lng\n",
       "0  17752.0      1  41.167156 -76.874030\n",
       "1  18036.0      2  40.456517 -75.463066\n",
       "2  18041.0    414  40.414249 -75.509016\n",
       "3  18054.0    326  40.349068 -75.481830\n",
       "4  18056.0      6  40.453060 -75.556029"
      ]
     },
     "execution_count": 32,
     "metadata": {},
     "output_type": "execute_result"
    }
   ],
   "source": [
    "by_zip = pd.DataFrame(by_zip.reset_index().rename(columns={0:'count'}))\n",
    "merged = by_zip.merge(locs, left_on='zip', right_index=True)\n",
    "merged.head()"
   ]
  },
  {
   "cell_type": "code",
   "execution_count": 41,
   "metadata": {},
   "outputs": [
    {
     "data": {
      "application/vnd.plotly.v1+json": {
       "config": {
        "plotlyServerURL": "https://plot.ly"
       },
       "data": [
        {
         "hoverlabel": {
          "namelength": 0
         },
         "hovertemplate": "count=%{marker.color}<br>lat=%{lat}<br>lng=%{lon}",
         "lat": [
          41.1671565,
          40.456517,
          40.414248799999996,
          40.3490683,
          40.4530596,
          40.4306131,
          40.4024419,
          40.30558370000001,
          40.3729226,
          40.4798532,
          40.58492929999999,
          40.2606041,
          40.272735100000006,
          40.3073925,
          40.302238700000004,
          40.2237777,
          40.382668100000004,
          40.364561,
          40.300736,
          40.1649518,
          40.325604799999994,
          40.209336900000004,
          40.2497,
          40.1211757,
          40.1546593,
          40.0083463,
          40.003954799999995,
          40.1195768,
          40.1335334,
          40.051283399999996,
          40.060047999999995,
          40.138898600000005,
          40.062974,
          40.1179476,
          40.1355514,
          40.0360186,
          40.09936210000001,
          40.174131200000005,
          40.0203725,
          40.1821111,
          40.085487,
          40.144360999999996,
          40.0074347,
          40.0167386,
          40.119448999999996,
          39.9584209,
          39.9924395,
          40.0289031,
          40.064311,
          40.1508958,
          40.089973,
          39.9867698,
          39.9970593,
          40.0879589,
          40.105855700000006,
          40.1123215,
          40.0795977,
          40.0727601,
          40.051154,
          40.0570451,
          40.1250277,
          40.073539600000004,
          40.0091085,
          40.0072359,
          40.0674876,
          39.9588576,
          40.072731,
          39.9866944,
          40.0849523,
          40.121181799999995,
          40.1330371,
          40.105308,
          40.104206299999994,
          40.1552833,
          40.21088220000001,
          40.2172859,
          40.0841613,
          40.3319684,
          40.28902670000001,
          40.267924900000004,
          40.0818005,
          40.2580614,
          40.135788,
          40.2537881,
          40.206838,
          40.1497607,
          40.1023985,
          40.2470021,
          40.231511100000006,
          40.2249227,
          40.340300799999994,
          40.27503,
          40.1825494,
          40.1868549,
          40.171689799999996,
          40.2783782,
          40.399850799999996,
          40.429862799999995,
          40.3648628,
          40.3305544,
          40.253578499999996,
          40.297875899999994,
          32.3870899,
          30.333596000000004
         ],
         "legendgroup": "",
         "lon": [
          -76.8740304,
          -75.4630662,
          -75.5090155,
          -75.4818301,
          -75.55602859999999,
          -75.54276180000001,
          -75.4994835,
          -75.4903214,
          -75.48580079999999,
          -75.5108147,
          -75.4420892,
          -75.21948909999999,
          -75.2579235,
          -75.243117,
          -75.24835340000001,
          -75.2353993,
          -75.3748162,
          -75.331751,
          -75.3319733,
          -75.060541,
          -75.32492540000001,
          -75.1352655,
          -75.166472,
          -75.1333613,
          -75.22154350000001,
          -75.2938805,
          -75.22070090000001,
          -75.06223609999999,
          -75.0564601,
          -75.2968515,
          -75.097217,
          -75.15145720000001,
          -75.135914,
          -75.20984759999999,
          -75.2150436,
          -75.2877431,
          -75.1500348,
          -75.0984907,
          -75.3092584,
          -75.12779509999999,
          -75.0977084,
          -75.000755,
          -75.24898859999999,
          -75.26515959999999,
          -75.19267740000001,
          -75.2713125,
          -75.30141379999999,
          -75.3518224,
          -75.3528628,
          -75.1274376,
          -75.14108490000001,
          -75.27543349999999,
          -75.2352933,
          -75.0734653,
          -75.0583681,
          -75.04776209999999,
          -75.2004047,
          -75.1885033,
          -75.118627,
          -75.1290645,
          -75.3650987,
          -75.2432901,
          -75.19697940000002,
          -75.21379499999999,
          -75.1466913,
          -75.2283295,
          -75.1559688,
          -75.2569627,
          -75.45784470000001,
          -75.3519752,
          -75.40846309999999,
          -75.341987,
          -75.3676652,
          -75.2642296,
          -75.364913,
          -75.405182,
          -75.3083857,
          -75.55377220000001,
          -75.3995896,
          -75.31438229999999,
          -75.2531616,
          -75.26467990000002,
          -75.5076694,
          -75.2164375,
          -75.59208690000001,
          -75.4785811,
          -75.29145770000001,
          -75.6525972,
          -75.65455990000001,
          -75.5280446,
          -75.57128259999999,
          -75.42987059999999,
          -75.54533409999999,
          -75.2341407,
          -75.34797590000001,
          -75.4908302,
          -75.5882997,
          -75.5583297,
          -75.5925381,
          -75.62388929999999,
          -75.6963855,
          -75.5812935,
          -86.276106,
          -95.5955947
         ],
         "marker": {
          "color": [
           1,
           2,
           414,
           326,
           6,
           54,
           736,
           435,
           306,
           14,
           4,
           66,
           118,
           2,
           11,
           254,
           10,
           34,
           1287,
           44,
           672,
           215,
           45,
           1514,
           3050,
           1094,
           1280,
           2256,
           49,
           1316,
           593,
           493,
           1818,
           566,
           796,
           481,
           2578,
           2043,
           436,
           1595,
           2564,
           6,
           451,
           728,
           302,
           3,
           20,
           304,
           344,
           2635,
           1023,
           1115,
           1,
           36,
           8,
           4,
           51,
           1,
           26,
           32,
           1,
           122,
           2,
           137,
           2,
           1,
           288,
           287,
           2,
           6979,
           4854,
           428,
           3174,
           1963,
           4,
           2461,
           2296,
           35,
           1990,
           1190,
           1008,
           4748,
           101,
           2781,
           1,
           427,
           2078,
           6643,
           458,
           2990,
           6,
           1012,
           73,
           10,
           1,
           40,
           4,
           101,
           27,
           220,
           57,
           965,
           1,
           1
          ],
          "coloraxis": "coloraxis",
          "size": [
           1,
           2,
           414,
           326,
           6,
           54,
           736,
           435,
           306,
           14,
           4,
           66,
           118,
           2,
           11,
           254,
           10,
           34,
           1287,
           44,
           672,
           215,
           45,
           1514,
           3050,
           1094,
           1280,
           2256,
           49,
           1316,
           593,
           493,
           1818,
           566,
           796,
           481,
           2578,
           2043,
           436,
           1595,
           2564,
           6,
           451,
           728,
           302,
           3,
           20,
           304,
           344,
           2635,
           1023,
           1115,
           1,
           36,
           8,
           4,
           51,
           1,
           26,
           32,
           1,
           122,
           2,
           137,
           2,
           1,
           288,
           287,
           2,
           6979,
           4854,
           428,
           3174,
           1963,
           4,
           2461,
           2296,
           35,
           1990,
           1190,
           1008,
           4748,
           101,
           2781,
           1,
           427,
           2078,
           6643,
           458,
           2990,
           6,
           1012,
           73,
           10,
           1,
           40,
           4,
           101,
           27,
           220,
           57,
           965,
           1,
           1
          ],
          "sizemode": "area",
          "sizeref": 17.4475
         },
         "mode": "markers",
         "name": "",
         "showlegend": false,
         "subplot": "mapbox",
         "type": "scattermapbox"
        }
       ],
       "layout": {
        "coloraxis": {
         "colorbar": {
          "title": {
           "text": "count"
          }
         },
         "colorscale": [
          [
           0,
           "#0d0887"
          ],
          [
           0.1111111111111111,
           "#46039f"
          ],
          [
           0.2222222222222222,
           "#7201a8"
          ],
          [
           0.3333333333333333,
           "#9c179e"
          ],
          [
           0.4444444444444444,
           "#bd3786"
          ],
          [
           0.5555555555555556,
           "#d8576b"
          ],
          [
           0.6666666666666666,
           "#ed7953"
          ],
          [
           0.7777777777777778,
           "#fb9f3a"
          ],
          [
           0.8888888888888888,
           "#fdca26"
          ],
          [
           1,
           "#f0f921"
          ]
         ]
        },
        "legend": {
         "itemsizing": "constant",
         "tracegroupgap": 0
        },
        "mapbox": {
         "center": {
          "lat": 40.02057141346154,
          "lon": -75.62930673653847
         },
         "domain": {
          "x": [
           0,
           1
          ],
          "y": [
           0,
           1
          ]
         },
         "style": "open-street-map",
         "zoom": 8
        },
        "margin": {
         "t": 60
        },
        "template": {
         "data": {
          "bar": [
           {
            "error_x": {
             "color": "#2a3f5f"
            },
            "error_y": {
             "color": "#2a3f5f"
            },
            "marker": {
             "line": {
              "color": "#E5ECF6",
              "width": 0.5
             }
            },
            "type": "bar"
           }
          ],
          "barpolar": [
           {
            "marker": {
             "line": {
              "color": "#E5ECF6",
              "width": 0.5
             }
            },
            "type": "barpolar"
           }
          ],
          "carpet": [
           {
            "aaxis": {
             "endlinecolor": "#2a3f5f",
             "gridcolor": "white",
             "linecolor": "white",
             "minorgridcolor": "white",
             "startlinecolor": "#2a3f5f"
            },
            "baxis": {
             "endlinecolor": "#2a3f5f",
             "gridcolor": "white",
             "linecolor": "white",
             "minorgridcolor": "white",
             "startlinecolor": "#2a3f5f"
            },
            "type": "carpet"
           }
          ],
          "choropleth": [
           {
            "colorbar": {
             "outlinewidth": 0,
             "ticks": ""
            },
            "type": "choropleth"
           }
          ],
          "contour": [
           {
            "colorbar": {
             "outlinewidth": 0,
             "ticks": ""
            },
            "colorscale": [
             [
              0,
              "#0d0887"
             ],
             [
              0.1111111111111111,
              "#46039f"
             ],
             [
              0.2222222222222222,
              "#7201a8"
             ],
             [
              0.3333333333333333,
              "#9c179e"
             ],
             [
              0.4444444444444444,
              "#bd3786"
             ],
             [
              0.5555555555555556,
              "#d8576b"
             ],
             [
              0.6666666666666666,
              "#ed7953"
             ],
             [
              0.7777777777777778,
              "#fb9f3a"
             ],
             [
              0.8888888888888888,
              "#fdca26"
             ],
             [
              1,
              "#f0f921"
             ]
            ],
            "type": "contour"
           }
          ],
          "contourcarpet": [
           {
            "colorbar": {
             "outlinewidth": 0,
             "ticks": ""
            },
            "type": "contourcarpet"
           }
          ],
          "heatmap": [
           {
            "colorbar": {
             "outlinewidth": 0,
             "ticks": ""
            },
            "colorscale": [
             [
              0,
              "#0d0887"
             ],
             [
              0.1111111111111111,
              "#46039f"
             ],
             [
              0.2222222222222222,
              "#7201a8"
             ],
             [
              0.3333333333333333,
              "#9c179e"
             ],
             [
              0.4444444444444444,
              "#bd3786"
             ],
             [
              0.5555555555555556,
              "#d8576b"
             ],
             [
              0.6666666666666666,
              "#ed7953"
             ],
             [
              0.7777777777777778,
              "#fb9f3a"
             ],
             [
              0.8888888888888888,
              "#fdca26"
             ],
             [
              1,
              "#f0f921"
             ]
            ],
            "type": "heatmap"
           }
          ],
          "heatmapgl": [
           {
            "colorbar": {
             "outlinewidth": 0,
             "ticks": ""
            },
            "colorscale": [
             [
              0,
              "#0d0887"
             ],
             [
              0.1111111111111111,
              "#46039f"
             ],
             [
              0.2222222222222222,
              "#7201a8"
             ],
             [
              0.3333333333333333,
              "#9c179e"
             ],
             [
              0.4444444444444444,
              "#bd3786"
             ],
             [
              0.5555555555555556,
              "#d8576b"
             ],
             [
              0.6666666666666666,
              "#ed7953"
             ],
             [
              0.7777777777777778,
              "#fb9f3a"
             ],
             [
              0.8888888888888888,
              "#fdca26"
             ],
             [
              1,
              "#f0f921"
             ]
            ],
            "type": "heatmapgl"
           }
          ],
          "histogram": [
           {
            "marker": {
             "colorbar": {
              "outlinewidth": 0,
              "ticks": ""
             }
            },
            "type": "histogram"
           }
          ],
          "histogram2d": [
           {
            "colorbar": {
             "outlinewidth": 0,
             "ticks": ""
            },
            "colorscale": [
             [
              0,
              "#0d0887"
             ],
             [
              0.1111111111111111,
              "#46039f"
             ],
             [
              0.2222222222222222,
              "#7201a8"
             ],
             [
              0.3333333333333333,
              "#9c179e"
             ],
             [
              0.4444444444444444,
              "#bd3786"
             ],
             [
              0.5555555555555556,
              "#d8576b"
             ],
             [
              0.6666666666666666,
              "#ed7953"
             ],
             [
              0.7777777777777778,
              "#fb9f3a"
             ],
             [
              0.8888888888888888,
              "#fdca26"
             ],
             [
              1,
              "#f0f921"
             ]
            ],
            "type": "histogram2d"
           }
          ],
          "histogram2dcontour": [
           {
            "colorbar": {
             "outlinewidth": 0,
             "ticks": ""
            },
            "colorscale": [
             [
              0,
              "#0d0887"
             ],
             [
              0.1111111111111111,
              "#46039f"
             ],
             [
              0.2222222222222222,
              "#7201a8"
             ],
             [
              0.3333333333333333,
              "#9c179e"
             ],
             [
              0.4444444444444444,
              "#bd3786"
             ],
             [
              0.5555555555555556,
              "#d8576b"
             ],
             [
              0.6666666666666666,
              "#ed7953"
             ],
             [
              0.7777777777777778,
              "#fb9f3a"
             ],
             [
              0.8888888888888888,
              "#fdca26"
             ],
             [
              1,
              "#f0f921"
             ]
            ],
            "type": "histogram2dcontour"
           }
          ],
          "mesh3d": [
           {
            "colorbar": {
             "outlinewidth": 0,
             "ticks": ""
            },
            "type": "mesh3d"
           }
          ],
          "parcoords": [
           {
            "line": {
             "colorbar": {
              "outlinewidth": 0,
              "ticks": ""
             }
            },
            "type": "parcoords"
           }
          ],
          "pie": [
           {
            "automargin": true,
            "type": "pie"
           }
          ],
          "scatter": [
           {
            "marker": {
             "colorbar": {
              "outlinewidth": 0,
              "ticks": ""
             }
            },
            "type": "scatter"
           }
          ],
          "scatter3d": [
           {
            "line": {
             "colorbar": {
              "outlinewidth": 0,
              "ticks": ""
             }
            },
            "marker": {
             "colorbar": {
              "outlinewidth": 0,
              "ticks": ""
             }
            },
            "type": "scatter3d"
           }
          ],
          "scattercarpet": [
           {
            "marker": {
             "colorbar": {
              "outlinewidth": 0,
              "ticks": ""
             }
            },
            "type": "scattercarpet"
           }
          ],
          "scattergeo": [
           {
            "marker": {
             "colorbar": {
              "outlinewidth": 0,
              "ticks": ""
             }
            },
            "type": "scattergeo"
           }
          ],
          "scattergl": [
           {
            "marker": {
             "colorbar": {
              "outlinewidth": 0,
              "ticks": ""
             }
            },
            "type": "scattergl"
           }
          ],
          "scattermapbox": [
           {
            "marker": {
             "colorbar": {
              "outlinewidth": 0,
              "ticks": ""
             }
            },
            "type": "scattermapbox"
           }
          ],
          "scatterpolar": [
           {
            "marker": {
             "colorbar": {
              "outlinewidth": 0,
              "ticks": ""
             }
            },
            "type": "scatterpolar"
           }
          ],
          "scatterpolargl": [
           {
            "marker": {
             "colorbar": {
              "outlinewidth": 0,
              "ticks": ""
             }
            },
            "type": "scatterpolargl"
           }
          ],
          "scatterternary": [
           {
            "marker": {
             "colorbar": {
              "outlinewidth": 0,
              "ticks": ""
             }
            },
            "type": "scatterternary"
           }
          ],
          "surface": [
           {
            "colorbar": {
             "outlinewidth": 0,
             "ticks": ""
            },
            "colorscale": [
             [
              0,
              "#0d0887"
             ],
             [
              0.1111111111111111,
              "#46039f"
             ],
             [
              0.2222222222222222,
              "#7201a8"
             ],
             [
              0.3333333333333333,
              "#9c179e"
             ],
             [
              0.4444444444444444,
              "#bd3786"
             ],
             [
              0.5555555555555556,
              "#d8576b"
             ],
             [
              0.6666666666666666,
              "#ed7953"
             ],
             [
              0.7777777777777778,
              "#fb9f3a"
             ],
             [
              0.8888888888888888,
              "#fdca26"
             ],
             [
              1,
              "#f0f921"
             ]
            ],
            "type": "surface"
           }
          ],
          "table": [
           {
            "cells": {
             "fill": {
              "color": "#EBF0F8"
             },
             "line": {
              "color": "white"
             }
            },
            "header": {
             "fill": {
              "color": "#C8D4E3"
             },
             "line": {
              "color": "white"
             }
            },
            "type": "table"
           }
          ]
         },
         "layout": {
          "annotationdefaults": {
           "arrowcolor": "#2a3f5f",
           "arrowhead": 0,
           "arrowwidth": 1
          },
          "coloraxis": {
           "colorbar": {
            "outlinewidth": 0,
            "ticks": ""
           }
          },
          "colorscale": {
           "diverging": [
            [
             0,
             "#8e0152"
            ],
            [
             0.1,
             "#c51b7d"
            ],
            [
             0.2,
             "#de77ae"
            ],
            [
             0.3,
             "#f1b6da"
            ],
            [
             0.4,
             "#fde0ef"
            ],
            [
             0.5,
             "#f7f7f7"
            ],
            [
             0.6,
             "#e6f5d0"
            ],
            [
             0.7,
             "#b8e186"
            ],
            [
             0.8,
             "#7fbc41"
            ],
            [
             0.9,
             "#4d9221"
            ],
            [
             1,
             "#276419"
            ]
           ],
           "sequential": [
            [
             0,
             "#0d0887"
            ],
            [
             0.1111111111111111,
             "#46039f"
            ],
            [
             0.2222222222222222,
             "#7201a8"
            ],
            [
             0.3333333333333333,
             "#9c179e"
            ],
            [
             0.4444444444444444,
             "#bd3786"
            ],
            [
             0.5555555555555556,
             "#d8576b"
            ],
            [
             0.6666666666666666,
             "#ed7953"
            ],
            [
             0.7777777777777778,
             "#fb9f3a"
            ],
            [
             0.8888888888888888,
             "#fdca26"
            ],
            [
             1,
             "#f0f921"
            ]
           ],
           "sequentialminus": [
            [
             0,
             "#0d0887"
            ],
            [
             0.1111111111111111,
             "#46039f"
            ],
            [
             0.2222222222222222,
             "#7201a8"
            ],
            [
             0.3333333333333333,
             "#9c179e"
            ],
            [
             0.4444444444444444,
             "#bd3786"
            ],
            [
             0.5555555555555556,
             "#d8576b"
            ],
            [
             0.6666666666666666,
             "#ed7953"
            ],
            [
             0.7777777777777778,
             "#fb9f3a"
            ],
            [
             0.8888888888888888,
             "#fdca26"
            ],
            [
             1,
             "#f0f921"
            ]
           ]
          },
          "colorway": [
           "#636efa",
           "#EF553B",
           "#00cc96",
           "#ab63fa",
           "#FFA15A",
           "#19d3f3",
           "#FF6692",
           "#B6E880",
           "#FF97FF",
           "#FECB52"
          ],
          "font": {
           "color": "#2a3f5f"
          },
          "geo": {
           "bgcolor": "white",
           "lakecolor": "white",
           "landcolor": "#E5ECF6",
           "showlakes": true,
           "showland": true,
           "subunitcolor": "white"
          },
          "hoverlabel": {
           "align": "left"
          },
          "hovermode": "closest",
          "mapbox": {
           "style": "light"
          },
          "paper_bgcolor": "white",
          "plot_bgcolor": "#E5ECF6",
          "polar": {
           "angularaxis": {
            "gridcolor": "white",
            "linecolor": "white",
            "ticks": ""
           },
           "bgcolor": "#E5ECF6",
           "radialaxis": {
            "gridcolor": "white",
            "linecolor": "white",
            "ticks": ""
           }
          },
          "scene": {
           "xaxis": {
            "backgroundcolor": "#E5ECF6",
            "gridcolor": "white",
            "gridwidth": 2,
            "linecolor": "white",
            "showbackground": true,
            "ticks": "",
            "zerolinecolor": "white"
           },
           "yaxis": {
            "backgroundcolor": "#E5ECF6",
            "gridcolor": "white",
            "gridwidth": 2,
            "linecolor": "white",
            "showbackground": true,
            "ticks": "",
            "zerolinecolor": "white"
           },
           "zaxis": {
            "backgroundcolor": "#E5ECF6",
            "gridcolor": "white",
            "gridwidth": 2,
            "linecolor": "white",
            "showbackground": true,
            "ticks": "",
            "zerolinecolor": "white"
           }
          },
          "shapedefaults": {
           "line": {
            "color": "#2a3f5f"
           }
          },
          "ternary": {
           "aaxis": {
            "gridcolor": "white",
            "linecolor": "white",
            "ticks": ""
           },
           "baxis": {
            "gridcolor": "white",
            "linecolor": "white",
            "ticks": ""
           },
           "bgcolor": "#E5ECF6",
           "caxis": {
            "gridcolor": "white",
            "linecolor": "white",
            "ticks": ""
           }
          },
          "title": {
           "x": 0.05
          },
          "xaxis": {
           "automargin": true,
           "gridcolor": "white",
           "linecolor": "white",
           "ticks": "",
           "title": {
            "standoff": 15
           },
           "zerolinecolor": "white",
           "zerolinewidth": 2
          },
          "yaxis": {
           "automargin": true,
           "gridcolor": "white",
           "linecolor": "white",
           "ticks": "",
           "title": {
            "standoff": 15
           },
           "zerolinecolor": "white",
           "zerolinewidth": 2
          }
         }
        }
       }
      },
      "text/html": [
       "<div>\n",
       "        \n",
       "        \n",
       "            <div id=\"e91d3230-a7a4-49c8-bafb-24cfff7abf58\" class=\"plotly-graph-div\" style=\"height:525px; width:100%;\"></div>\n",
       "            <script type=\"text/javascript\">\n",
       "                require([\"plotly\"], function(Plotly) {\n",
       "                    window.PLOTLYENV=window.PLOTLYENV || {};\n",
       "                    \n",
       "                if (document.getElementById(\"e91d3230-a7a4-49c8-bafb-24cfff7abf58\")) {\n",
       "                    Plotly.newPlot(\n",
       "                        'e91d3230-a7a4-49c8-bafb-24cfff7abf58',\n",
       "                        [{\"hoverlabel\": {\"namelength\": 0}, \"hovertemplate\": \"count=%{marker.color}<br>lat=%{lat}<br>lng=%{lon}\", \"lat\": [41.1671565, 40.456517, 40.414248799999996, 40.3490683, 40.4530596, 40.4306131, 40.4024419, 40.30558370000001, 40.3729226, 40.4798532, 40.58492929999999, 40.2606041, 40.272735100000006, 40.3073925, 40.302238700000004, 40.2237777, 40.382668100000004, 40.364561, 40.300736, 40.1649518, 40.325604799999994, 40.209336900000004, 40.2497, 40.1211757, 40.1546593, 40.0083463, 40.003954799999995, 40.1195768, 40.1335334, 40.051283399999996, 40.060047999999995, 40.138898600000005, 40.062974, 40.1179476, 40.1355514, 40.0360186, 40.09936210000001, 40.174131200000005, 40.0203725, 40.1821111, 40.085487, 40.144360999999996, 40.0074347, 40.0167386, 40.119448999999996, 39.9584209, 39.9924395, 40.0289031, 40.064311, 40.1508958, 40.089973, 39.9867698, 39.9970593, 40.0879589, 40.105855700000006, 40.1123215, 40.0795977, 40.0727601, 40.051154, 40.0570451, 40.1250277, 40.073539600000004, 40.0091085, 40.0072359, 40.0674876, 39.9588576, 40.072731, 39.9866944, 40.0849523, 40.121181799999995, 40.1330371, 40.105308, 40.104206299999994, 40.1552833, 40.21088220000001, 40.2172859, 40.0841613, 40.3319684, 40.28902670000001, 40.267924900000004, 40.0818005, 40.2580614, 40.135788, 40.2537881, 40.206838, 40.1497607, 40.1023985, 40.2470021, 40.231511100000006, 40.2249227, 40.340300799999994, 40.27503, 40.1825494, 40.1868549, 40.171689799999996, 40.2783782, 40.399850799999996, 40.429862799999995, 40.3648628, 40.3305544, 40.253578499999996, 40.297875899999994, 32.3870899, 30.333596000000004], \"legendgroup\": \"\", \"lon\": [-76.8740304, -75.4630662, -75.5090155, -75.4818301, -75.55602859999999, -75.54276180000001, -75.4994835, -75.4903214, -75.48580079999999, -75.5108147, -75.4420892, -75.21948909999999, -75.2579235, -75.243117, -75.24835340000001, -75.2353993, -75.3748162, -75.331751, -75.3319733, -75.060541, -75.32492540000001, -75.1352655, -75.166472, -75.1333613, -75.22154350000001, -75.2938805, -75.22070090000001, -75.06223609999999, -75.0564601, -75.2968515, -75.097217, -75.15145720000001, -75.135914, -75.20984759999999, -75.2150436, -75.2877431, -75.1500348, -75.0984907, -75.3092584, -75.12779509999999, -75.0977084, -75.000755, -75.24898859999999, -75.26515959999999, -75.19267740000001, -75.2713125, -75.30141379999999, -75.3518224, -75.3528628, -75.1274376, -75.14108490000001, -75.27543349999999, -75.2352933, -75.0734653, -75.0583681, -75.04776209999999, -75.2004047, -75.1885033, -75.118627, -75.1290645, -75.3650987, -75.2432901, -75.19697940000002, -75.21379499999999, -75.1466913, -75.2283295, -75.1559688, -75.2569627, -75.45784470000001, -75.3519752, -75.40846309999999, -75.341987, -75.3676652, -75.2642296, -75.364913, -75.405182, -75.3083857, -75.55377220000001, -75.3995896, -75.31438229999999, -75.2531616, -75.26467990000002, -75.5076694, -75.2164375, -75.59208690000001, -75.4785811, -75.29145770000001, -75.6525972, -75.65455990000001, -75.5280446, -75.57128259999999, -75.42987059999999, -75.54533409999999, -75.2341407, -75.34797590000001, -75.4908302, -75.5882997, -75.5583297, -75.5925381, -75.62388929999999, -75.6963855, -75.5812935, -86.276106, -95.5955947], \"marker\": {\"color\": [1, 2, 414, 326, 6, 54, 736, 435, 306, 14, 4, 66, 118, 2, 11, 254, 10, 34, 1287, 44, 672, 215, 45, 1514, 3050, 1094, 1280, 2256, 49, 1316, 593, 493, 1818, 566, 796, 481, 2578, 2043, 436, 1595, 2564, 6, 451, 728, 302, 3, 20, 304, 344, 2635, 1023, 1115, 1, 36, 8, 4, 51, 1, 26, 32, 1, 122, 2, 137, 2, 1, 288, 287, 2, 6979, 4854, 428, 3174, 1963, 4, 2461, 2296, 35, 1990, 1190, 1008, 4748, 101, 2781, 1, 427, 2078, 6643, 458, 2990, 6, 1012, 73, 10, 1, 40, 4, 101, 27, 220, 57, 965, 1, 1], \"coloraxis\": \"coloraxis\", \"size\": [1, 2, 414, 326, 6, 54, 736, 435, 306, 14, 4, 66, 118, 2, 11, 254, 10, 34, 1287, 44, 672, 215, 45, 1514, 3050, 1094, 1280, 2256, 49, 1316, 593, 493, 1818, 566, 796, 481, 2578, 2043, 436, 1595, 2564, 6, 451, 728, 302, 3, 20, 304, 344, 2635, 1023, 1115, 1, 36, 8, 4, 51, 1, 26, 32, 1, 122, 2, 137, 2, 1, 288, 287, 2, 6979, 4854, 428, 3174, 1963, 4, 2461, 2296, 35, 1990, 1190, 1008, 4748, 101, 2781, 1, 427, 2078, 6643, 458, 2990, 6, 1012, 73, 10, 1, 40, 4, 101, 27, 220, 57, 965, 1, 1], \"sizemode\": \"area\", \"sizeref\": 17.4475}, \"mode\": \"markers\", \"name\": \"\", \"showlegend\": false, \"subplot\": \"mapbox\", \"type\": \"scattermapbox\"}],\n",
       "                        {\"coloraxis\": {\"colorbar\": {\"title\": {\"text\": \"count\"}}, \"colorscale\": [[0.0, \"#0d0887\"], [0.1111111111111111, \"#46039f\"], [0.2222222222222222, \"#7201a8\"], [0.3333333333333333, \"#9c179e\"], [0.4444444444444444, \"#bd3786\"], [0.5555555555555556, \"#d8576b\"], [0.6666666666666666, \"#ed7953\"], [0.7777777777777778, \"#fb9f3a\"], [0.8888888888888888, \"#fdca26\"], [1.0, \"#f0f921\"]]}, \"legend\": {\"itemsizing\": \"constant\", \"tracegroupgap\": 0}, \"mapbox\": {\"center\": {\"lat\": 40.02057141346154, \"lon\": -75.62930673653847}, \"domain\": {\"x\": [0.0, 1.0], \"y\": [0.0, 1.0]}, \"style\": \"open-street-map\", \"zoom\": 8}, \"margin\": {\"t\": 60}, \"template\": {\"data\": {\"bar\": [{\"error_x\": {\"color\": \"#2a3f5f\"}, \"error_y\": {\"color\": \"#2a3f5f\"}, \"marker\": {\"line\": {\"color\": \"#E5ECF6\", \"width\": 0.5}}, \"type\": \"bar\"}], \"barpolar\": [{\"marker\": {\"line\": {\"color\": \"#E5ECF6\", \"width\": 0.5}}, \"type\": \"barpolar\"}], \"carpet\": [{\"aaxis\": {\"endlinecolor\": \"#2a3f5f\", \"gridcolor\": \"white\", \"linecolor\": \"white\", \"minorgridcolor\": \"white\", \"startlinecolor\": \"#2a3f5f\"}, \"baxis\": {\"endlinecolor\": \"#2a3f5f\", \"gridcolor\": \"white\", \"linecolor\": \"white\", \"minorgridcolor\": \"white\", \"startlinecolor\": \"#2a3f5f\"}, \"type\": \"carpet\"}], \"choropleth\": [{\"colorbar\": {\"outlinewidth\": 0, \"ticks\": \"\"}, \"type\": \"choropleth\"}], \"contour\": [{\"colorbar\": {\"outlinewidth\": 0, \"ticks\": \"\"}, \"colorscale\": [[0.0, \"#0d0887\"], [0.1111111111111111, \"#46039f\"], [0.2222222222222222, \"#7201a8\"], [0.3333333333333333, \"#9c179e\"], [0.4444444444444444, \"#bd3786\"], [0.5555555555555556, \"#d8576b\"], [0.6666666666666666, \"#ed7953\"], [0.7777777777777778, \"#fb9f3a\"], [0.8888888888888888, \"#fdca26\"], [1.0, \"#f0f921\"]], \"type\": \"contour\"}], \"contourcarpet\": [{\"colorbar\": {\"outlinewidth\": 0, \"ticks\": \"\"}, \"type\": \"contourcarpet\"}], \"heatmap\": [{\"colorbar\": {\"outlinewidth\": 0, \"ticks\": \"\"}, \"colorscale\": [[0.0, \"#0d0887\"], [0.1111111111111111, \"#46039f\"], [0.2222222222222222, \"#7201a8\"], [0.3333333333333333, \"#9c179e\"], [0.4444444444444444, \"#bd3786\"], [0.5555555555555556, \"#d8576b\"], [0.6666666666666666, \"#ed7953\"], [0.7777777777777778, \"#fb9f3a\"], [0.8888888888888888, \"#fdca26\"], [1.0, \"#f0f921\"]], \"type\": \"heatmap\"}], \"heatmapgl\": [{\"colorbar\": {\"outlinewidth\": 0, \"ticks\": \"\"}, \"colorscale\": [[0.0, \"#0d0887\"], [0.1111111111111111, \"#46039f\"], [0.2222222222222222, \"#7201a8\"], [0.3333333333333333, \"#9c179e\"], [0.4444444444444444, \"#bd3786\"], [0.5555555555555556, \"#d8576b\"], [0.6666666666666666, \"#ed7953\"], [0.7777777777777778, \"#fb9f3a\"], [0.8888888888888888, \"#fdca26\"], [1.0, \"#f0f921\"]], \"type\": \"heatmapgl\"}], \"histogram\": [{\"marker\": {\"colorbar\": {\"outlinewidth\": 0, \"ticks\": \"\"}}, \"type\": \"histogram\"}], \"histogram2d\": [{\"colorbar\": {\"outlinewidth\": 0, \"ticks\": \"\"}, \"colorscale\": [[0.0, \"#0d0887\"], [0.1111111111111111, \"#46039f\"], [0.2222222222222222, \"#7201a8\"], [0.3333333333333333, \"#9c179e\"], [0.4444444444444444, \"#bd3786\"], [0.5555555555555556, \"#d8576b\"], [0.6666666666666666, \"#ed7953\"], [0.7777777777777778, \"#fb9f3a\"], [0.8888888888888888, \"#fdca26\"], [1.0, \"#f0f921\"]], \"type\": \"histogram2d\"}], \"histogram2dcontour\": [{\"colorbar\": {\"outlinewidth\": 0, \"ticks\": \"\"}, \"colorscale\": [[0.0, \"#0d0887\"], [0.1111111111111111, \"#46039f\"], [0.2222222222222222, \"#7201a8\"], [0.3333333333333333, \"#9c179e\"], [0.4444444444444444, \"#bd3786\"], [0.5555555555555556, \"#d8576b\"], [0.6666666666666666, \"#ed7953\"], [0.7777777777777778, \"#fb9f3a\"], [0.8888888888888888, \"#fdca26\"], [1.0, \"#f0f921\"]], \"type\": \"histogram2dcontour\"}], \"mesh3d\": [{\"colorbar\": {\"outlinewidth\": 0, \"ticks\": \"\"}, \"type\": \"mesh3d\"}], \"parcoords\": [{\"line\": {\"colorbar\": {\"outlinewidth\": 0, \"ticks\": \"\"}}, \"type\": \"parcoords\"}], \"pie\": [{\"automargin\": true, \"type\": \"pie\"}], \"scatter\": [{\"marker\": {\"colorbar\": {\"outlinewidth\": 0, \"ticks\": \"\"}}, \"type\": \"scatter\"}], \"scatter3d\": [{\"line\": {\"colorbar\": {\"outlinewidth\": 0, \"ticks\": \"\"}}, \"marker\": {\"colorbar\": {\"outlinewidth\": 0, \"ticks\": \"\"}}, \"type\": \"scatter3d\"}], \"scattercarpet\": [{\"marker\": {\"colorbar\": {\"outlinewidth\": 0, \"ticks\": \"\"}}, \"type\": \"scattercarpet\"}], \"scattergeo\": [{\"marker\": {\"colorbar\": {\"outlinewidth\": 0, \"ticks\": \"\"}}, \"type\": \"scattergeo\"}], \"scattergl\": [{\"marker\": {\"colorbar\": {\"outlinewidth\": 0, \"ticks\": \"\"}}, \"type\": \"scattergl\"}], \"scattermapbox\": [{\"marker\": {\"colorbar\": {\"outlinewidth\": 0, \"ticks\": \"\"}}, \"type\": \"scattermapbox\"}], \"scatterpolar\": [{\"marker\": {\"colorbar\": {\"outlinewidth\": 0, \"ticks\": \"\"}}, \"type\": \"scatterpolar\"}], \"scatterpolargl\": [{\"marker\": {\"colorbar\": {\"outlinewidth\": 0, \"ticks\": \"\"}}, \"type\": \"scatterpolargl\"}], \"scatterternary\": [{\"marker\": {\"colorbar\": {\"outlinewidth\": 0, \"ticks\": \"\"}}, \"type\": \"scatterternary\"}], \"surface\": [{\"colorbar\": {\"outlinewidth\": 0, \"ticks\": \"\"}, \"colorscale\": [[0.0, \"#0d0887\"], [0.1111111111111111, \"#46039f\"], [0.2222222222222222, \"#7201a8\"], [0.3333333333333333, \"#9c179e\"], [0.4444444444444444, \"#bd3786\"], [0.5555555555555556, \"#d8576b\"], [0.6666666666666666, \"#ed7953\"], [0.7777777777777778, \"#fb9f3a\"], [0.8888888888888888, \"#fdca26\"], [1.0, \"#f0f921\"]], \"type\": \"surface\"}], \"table\": [{\"cells\": {\"fill\": {\"color\": \"#EBF0F8\"}, \"line\": {\"color\": \"white\"}}, \"header\": {\"fill\": {\"color\": \"#C8D4E3\"}, \"line\": {\"color\": \"white\"}}, \"type\": \"table\"}]}, \"layout\": {\"annotationdefaults\": {\"arrowcolor\": \"#2a3f5f\", \"arrowhead\": 0, \"arrowwidth\": 1}, \"coloraxis\": {\"colorbar\": {\"outlinewidth\": 0, \"ticks\": \"\"}}, \"colorscale\": {\"diverging\": [[0, \"#8e0152\"], [0.1, \"#c51b7d\"], [0.2, \"#de77ae\"], [0.3, \"#f1b6da\"], [0.4, \"#fde0ef\"], [0.5, \"#f7f7f7\"], [0.6, \"#e6f5d0\"], [0.7, \"#b8e186\"], [0.8, \"#7fbc41\"], [0.9, \"#4d9221\"], [1, \"#276419\"]], \"sequential\": [[0.0, \"#0d0887\"], [0.1111111111111111, \"#46039f\"], [0.2222222222222222, \"#7201a8\"], [0.3333333333333333, \"#9c179e\"], [0.4444444444444444, \"#bd3786\"], [0.5555555555555556, \"#d8576b\"], [0.6666666666666666, \"#ed7953\"], [0.7777777777777778, \"#fb9f3a\"], [0.8888888888888888, \"#fdca26\"], [1.0, \"#f0f921\"]], \"sequentialminus\": [[0.0, \"#0d0887\"], [0.1111111111111111, \"#46039f\"], [0.2222222222222222, \"#7201a8\"], [0.3333333333333333, \"#9c179e\"], [0.4444444444444444, \"#bd3786\"], [0.5555555555555556, \"#d8576b\"], [0.6666666666666666, \"#ed7953\"], [0.7777777777777778, \"#fb9f3a\"], [0.8888888888888888, \"#fdca26\"], [1.0, \"#f0f921\"]]}, \"colorway\": [\"#636efa\", \"#EF553B\", \"#00cc96\", \"#ab63fa\", \"#FFA15A\", \"#19d3f3\", \"#FF6692\", \"#B6E880\", \"#FF97FF\", \"#FECB52\"], \"font\": {\"color\": \"#2a3f5f\"}, \"geo\": {\"bgcolor\": \"white\", \"lakecolor\": \"white\", \"landcolor\": \"#E5ECF6\", \"showlakes\": true, \"showland\": true, \"subunitcolor\": \"white\"}, \"hoverlabel\": {\"align\": \"left\"}, \"hovermode\": \"closest\", \"mapbox\": {\"style\": \"light\"}, \"paper_bgcolor\": \"white\", \"plot_bgcolor\": \"#E5ECF6\", \"polar\": {\"angularaxis\": {\"gridcolor\": \"white\", \"linecolor\": \"white\", \"ticks\": \"\"}, \"bgcolor\": \"#E5ECF6\", \"radialaxis\": {\"gridcolor\": \"white\", \"linecolor\": \"white\", \"ticks\": \"\"}}, \"scene\": {\"xaxis\": {\"backgroundcolor\": \"#E5ECF6\", \"gridcolor\": \"white\", \"gridwidth\": 2, \"linecolor\": \"white\", \"showbackground\": true, \"ticks\": \"\", \"zerolinecolor\": \"white\"}, \"yaxis\": {\"backgroundcolor\": \"#E5ECF6\", \"gridcolor\": \"white\", \"gridwidth\": 2, \"linecolor\": \"white\", \"showbackground\": true, \"ticks\": \"\", \"zerolinecolor\": \"white\"}, \"zaxis\": {\"backgroundcolor\": \"#E5ECF6\", \"gridcolor\": \"white\", \"gridwidth\": 2, \"linecolor\": \"white\", \"showbackground\": true, \"ticks\": \"\", \"zerolinecolor\": \"white\"}}, \"shapedefaults\": {\"line\": {\"color\": \"#2a3f5f\"}}, \"ternary\": {\"aaxis\": {\"gridcolor\": \"white\", \"linecolor\": \"white\", \"ticks\": \"\"}, \"baxis\": {\"gridcolor\": \"white\", \"linecolor\": \"white\", \"ticks\": \"\"}, \"bgcolor\": \"#E5ECF6\", \"caxis\": {\"gridcolor\": \"white\", \"linecolor\": \"white\", \"ticks\": \"\"}}, \"title\": {\"x\": 0.05}, \"xaxis\": {\"automargin\": true, \"gridcolor\": \"white\", \"linecolor\": \"white\", \"ticks\": \"\", \"title\": {\"standoff\": 15}, \"zerolinecolor\": \"white\", \"zerolinewidth\": 2}, \"yaxis\": {\"automargin\": true, \"gridcolor\": \"white\", \"linecolor\": \"white\", \"ticks\": \"\", \"title\": {\"standoff\": 15}, \"zerolinecolor\": \"white\", \"zerolinewidth\": 2}}}},\n",
       "                        {\"responsive\": true}\n",
       "                    ).then(function(){\n",
       "                            \n",
       "var gd = document.getElementById('e91d3230-a7a4-49c8-bafb-24cfff7abf58');\n",
       "var x = new MutationObserver(function (mutations, observer) {{\n",
       "        var display = window.getComputedStyle(gd).display;\n",
       "        if (!display || display === 'none') {{\n",
       "            console.log([gd, 'removed!']);\n",
       "            Plotly.purge(gd);\n",
       "            observer.disconnect();\n",
       "        }}\n",
       "}});\n",
       "\n",
       "// Listen for the removal of the full notebook cells\n",
       "var notebookContainer = gd.closest('#notebook-container');\n",
       "if (notebookContainer) {{\n",
       "    x.observe(notebookContainer, {childList: true});\n",
       "}}\n",
       "\n",
       "// Listen for the clearing of the current output cell\n",
       "var outputEl = gd.closest('.output');\n",
       "if (outputEl) {{\n",
       "    x.observe(outputEl, {childList: true});\n",
       "}}\n",
       "\n",
       "                        })\n",
       "                };\n",
       "                });\n",
       "            </script>\n",
       "        </div>"
      ]
     },
     "metadata": {},
     "output_type": "display_data"
    }
   ],
   "source": [
    "import plotly.express as px\n",
    "fig = px.scatter_mapbox(merged, lat=\"lat\", lon=\"lng\", color=\"count\", size=\"count\")\n",
    "fig.update_layout(mapbox_style=\"open-street-map\")\n",
    "fig.show()"
   ]
  },
  {
   "cell_type": "markdown",
   "metadata": {
    "collapsed": true
   },
   "source": [
    "**Continue exploring the Data however you see fit!**\n",
    "# Great Job!"
   ]
  }
 ],
 "metadata": {
  "kernelspec": {
   "display_name": "Python 3",
   "language": "python",
   "name": "python3"
  },
  "language_info": {
   "codemirror_mode": {
    "name": "ipython",
    "version": 3
   },
   "file_extension": ".py",
   "mimetype": "text/x-python",
   "name": "python",
   "nbconvert_exporter": "python",
   "pygments_lexer": "ipython3",
   "version": "3.7.3"
  }
 },
 "nbformat": 4,
 "nbformat_minor": 1
}
